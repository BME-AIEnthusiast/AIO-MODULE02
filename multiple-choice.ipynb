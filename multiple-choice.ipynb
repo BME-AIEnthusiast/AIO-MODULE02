{
 "cells": [
  {
   "cell_type": "markdown",
   "metadata": {},
   "source": [
    "## Bài tập 1\n"
   ]
  },
  {
   "cell_type": "markdown",
   "metadata": {},
   "source": [
    "Câu hỏi 1: a"
   ]
  },
  {
   "cell_type": "code",
   "execution_count": 38,
   "metadata": {},
   "outputs": [
    {
     "name": "stdout",
     "output_type": "stream",
     "text": [
      "[0 1 2 3 4 5 6 7 8 9]\n"
     ]
    }
   ],
   "source": [
    "import numpy as np\n",
    "arr = np . arange (0 , 10 , 1)\n",
    "print(arr)"
   ]
  },
  {
   "cell_type": "code",
   "execution_count": 39,
   "metadata": {},
   "outputs": [
    {
     "name": "stdout",
     "output_type": "stream",
     "text": [
      "[1 2 3 4 5 6 7 8 9]\n"
     ]
    }
   ],
   "source": [
    "import numpy as np\n",
    "arr = np . arange (1 , 10 , 1)\n",
    "print(arr)"
   ]
  },
  {
   "cell_type": "code",
   "execution_count": 40,
   "metadata": {},
   "outputs": [
    {
     "name": "stdout",
     "output_type": "stream",
     "text": [
      "[0 1 2 3 4 5 6 7 8]\n"
     ]
    }
   ],
   "source": [
    "import numpy as np\n",
    "arr = np . arange (0 , 9 , 1)\n",
    "print(arr)"
   ]
  },
  {
   "cell_type": "code",
   "execution_count": 41,
   "metadata": {},
   "outputs": [
    {
     "name": "stdout",
     "output_type": "stream",
     "text": [
      "[ 1  2  3  4  5  6  7  8  9 10]\n"
     ]
    }
   ],
   "source": [
    "import numpy as np\n",
    "arr = np . arange (1 , 11 , 1)\n",
    "print(arr)"
   ]
  },
  {
   "cell_type": "markdown",
   "metadata": {},
   "source": [
    "Câu hỏi 2: d"
   ]
  },
  {
   "cell_type": "code",
   "execution_count": 42,
   "metadata": {},
   "outputs": [
    {
     "name": "stdout",
     "output_type": "stream",
     "text": [
      "[[ True  True  True]\n",
      " [ True  True  True]\n",
      " [ True  True  True]]\n"
     ]
    }
   ],
   "source": [
    "arr = np . ones ((3 ,3) ) > 0\n",
    "print(arr)"
   ]
  },
  {
   "cell_type": "code",
   "execution_count": 43,
   "metadata": {},
   "outputs": [
    {
     "name": "stdout",
     "output_type": "stream",
     "text": [
      "[[ True  True  True]\n",
      " [ True  True  True]\n",
      " [ True  True  True]]\n"
     ]
    }
   ],
   "source": [
    "arr = np . ones ((3 ,3) , dtype = bool )\n",
    "print(arr)"
   ]
  },
  {
   "cell_type": "code",
   "execution_count": 44,
   "metadata": {},
   "outputs": [
    {
     "name": "stdout",
     "output_type": "stream",
     "text": [
      "[[ True  True  True]\n",
      " [ True  True  True]\n",
      " [ True  True  True]]\n"
     ]
    }
   ],
   "source": [
    "arr = np . full ((3 ,3) , fill_value = True , dtype = bool )\n",
    "print(arr)"
   ]
  },
  {
   "cell_type": "markdown",
   "metadata": {},
   "source": [
    "Câu hỏi 3: a"
   ]
  },
  {
   "cell_type": "code",
   "execution_count": 45,
   "metadata": {},
   "outputs": [
    {
     "name": "stdout",
     "output_type": "stream",
     "text": [
      "[1 3 5 7 9]\n"
     ]
    }
   ],
   "source": [
    "import numpy as np\n",
    "arr = np . arange (0 ,10)\n",
    "print ( arr [ arr %2 == 1])"
   ]
  },
  {
   "cell_type": "markdown",
   "metadata": {},
   "source": [
    "Câu hỏi 4: b"
   ]
  },
  {
   "cell_type": "code",
   "execution_count": 46,
   "metadata": {},
   "outputs": [
    {
     "name": "stdout",
     "output_type": "stream",
     "text": [
      "[ 0 -1  2 -1  4 -1  6 -1  8 -1]\n"
     ]
    }
   ],
   "source": [
    "import numpy as np\n",
    "arr = np . arange (0 ,10)\n",
    "arr [ arr %2 ==1] = -1\n",
    "print ( arr )"
   ]
  },
  {
   "cell_type": "markdown",
   "metadata": {},
   "source": [
    "Câu hỏi 5: b"
   ]
  },
  {
   "cell_type": "code",
   "execution_count": 47,
   "metadata": {},
   "outputs": [
    {
     "name": "stdout",
     "output_type": "stream",
     "text": [
      "[[0 1 2 3 4]\n",
      " [5 6 7 8 9]]\n"
     ]
    }
   ],
   "source": [
    "import numpy as np\n",
    "arr = np . arange (10)\n",
    "arr_2d = arr . reshape (2 , -1)\n",
    "print ( arr_2d )"
   ]
  },
  {
   "cell_type": "markdown",
   "metadata": {},
   "source": [
    "Câu hỏi 6: a"
   ]
  },
  {
   "cell_type": "code",
   "execution_count": 48,
   "metadata": {},
   "outputs": [
    {
     "name": "stdout",
     "output_type": "stream",
     "text": [
      " Result : \n",
      " [[0 1 2 3 4]\n",
      " [5 6 7 8 9]\n",
      " [1 1 1 1 1]\n",
      " [1 1 1 1 1]]\n"
     ]
    }
   ],
   "source": [
    "import numpy as np\n",
    "arr1 = np . arange (10) . reshape (2 , -1)\n",
    "arr2 = np . repeat (1 ,10) . reshape (2 , -1)\n",
    "c = np . concatenate ([ arr1 , arr2 ] , axis =0)\n",
    "print (\" Result : \\n\", c )"
   ]
  },
  {
   "cell_type": "markdown",
   "metadata": {},
   "source": [
    "Câu hỏi 7: c"
   ]
  },
  {
   "cell_type": "code",
   "execution_count": 49,
   "metadata": {},
   "outputs": [
    {
     "name": "stdout",
     "output_type": "stream",
     "text": [
      "C =  [[0 1 2 3 4 1 1 1 1 1]\n",
      " [5 6 7 8 9 1 1 1 1 1]]\n"
     ]
    }
   ],
   "source": [
    "import numpy as np\n",
    "arr1 = np . arange (10) . reshape (2 , -1)\n",
    "arr2 = np . repeat (1 ,10) . reshape (2 , -1)\n",
    "c = np . concatenate ([ arr1 , arr2 ] , axis =1)\n",
    "print (\"C = \", c )"
   ]
  },
  {
   "cell_type": "markdown",
   "metadata": {},
   "source": [
    "Câu hỏi 8: a"
   ]
  },
  {
   "cell_type": "code",
   "execution_count": 50,
   "metadata": {},
   "outputs": [
    {
     "name": "stdout",
     "output_type": "stream",
     "text": [
      "[1 1 1 2 2 2 3 3 3]\n",
      "[1 2 3 1 2 3 1 2 3]\n"
     ]
    }
   ],
   "source": [
    "import numpy as np\n",
    "arr = np . array ([1 ,2 ,3])\n",
    "print ( np . repeat ( arr ,3) )\n",
    "print ( np . tile ( arr ,3) )"
   ]
  },
  {
   "cell_type": "markdown",
   "metadata": {},
   "source": [
    "Câu hỏi 9: c"
   ]
  },
  {
   "cell_type": "code",
   "execution_count": 51,
   "metadata": {},
   "outputs": [
    {
     "name": "stdout",
     "output_type": "stream",
     "text": [
      " result  [ 6  9 10]\n"
     ]
    }
   ],
   "source": [
    "import numpy as np\n",
    "a = np . array ([2 ,6 ,1 ,9 ,10 ,3 ,27])\n",
    "index = np . where ((a >=5) &( a <=10) )\n",
    "print (\" result \", a [ index ])"
   ]
  },
  {
   "cell_type": "markdown",
   "metadata": {},
   "source": [
    "Câu hỏi 10: d"
   ]
  },
  {
   "cell_type": "code",
   "execution_count": 52,
   "metadata": {},
   "outputs": [
    {
     "name": "stdout",
     "output_type": "stream",
     "text": [
      "[6. 7. 9. 8. 9. 7. 5.]\n"
     ]
    }
   ],
   "source": [
    "import numpy as np\n",
    "\n",
    "def maxx (x , y ) :\n",
    "    if x >= y :\n",
    "        return x\n",
    "    else :\n",
    "        return y\n",
    "\n",
    "a = np . array ([5 ,7 ,9 ,8 ,6 ,4 ,5])\n",
    "b = np . array ([6 ,3 ,4 ,8 ,9 ,7 ,1])\n",
    "\n",
    "pair_max = np . vectorize ( maxx , otypes =[ float ])\n",
    "print ( pair_max (a , b ) )"
   ]
  },
  {
   "cell_type": "markdown",
   "metadata": {},
   "source": [
    "Câu hỏi 11: a"
   ]
  },
  {
   "cell_type": "code",
   "execution_count": 53,
   "metadata": {},
   "outputs": [
    {
     "name": "stdout",
     "output_type": "stream",
     "text": [
      " Result  [6 7 9 8 9 7 5]\n"
     ]
    }
   ],
   "source": [
    "import numpy as np\n",
    "\n",
    "a = np . array ([5 ,7 ,9 ,8 ,6 ,4 ,5])\n",
    "b = np . array ([6 ,3 ,4 ,8 ,9 ,7 ,1])\n",
    "\n",
    "print (\" Result \", np . where (a <b , b , a ) )"
   ]
  },
  {
   "cell_type": "markdown",
   "metadata": {},
   "source": [
    "##  BÀI TẬP 2: XỬ LÝ ẢNH\n"
   ]
  },
  {
   "cell_type": "markdown",
   "metadata": {},
   "source": [
    "Câu hỏi 12: a"
   ]
  },
  {
   "cell_type": "code",
   "execution_count": 54,
   "metadata": {},
   "outputs": [
    {
     "name": "stdout",
     "output_type": "stream",
     "text": [
      "Requirement already satisfied: matplotlib in c:\\users\\nga hoang\\anaconda3\\envs\\aio_module01\\lib\\site-packages (3.9.1)\n",
      "Requirement already satisfied: contourpy>=1.0.1 in c:\\users\\nga hoang\\anaconda3\\envs\\aio_module01\\lib\\site-packages (from matplotlib) (1.2.1)\n",
      "Requirement already satisfied: cycler>=0.10 in c:\\users\\nga hoang\\anaconda3\\envs\\aio_module01\\lib\\site-packages (from matplotlib) (0.12.1)\n",
      "Requirement already satisfied: fonttools>=4.22.0 in c:\\users\\nga hoang\\anaconda3\\envs\\aio_module01\\lib\\site-packages (from matplotlib) (4.53.1)\n",
      "Requirement already satisfied: kiwisolver>=1.3.1 in c:\\users\\nga hoang\\anaconda3\\envs\\aio_module01\\lib\\site-packages (from matplotlib) (1.4.5)\n",
      "Requirement already satisfied: numpy>=1.23 in c:\\users\\nga hoang\\anaconda3\\envs\\aio_module01\\lib\\site-packages (from matplotlib) (1.26.4)\n",
      "Requirement already satisfied: packaging>=20.0 in c:\\users\\nga hoang\\anaconda3\\envs\\aio_module01\\lib\\site-packages (from matplotlib) (24.0)\n",
      "Requirement already satisfied: pillow>=8 in c:\\users\\nga hoang\\anaconda3\\envs\\aio_module01\\lib\\site-packages (from matplotlib) (10.4.0)\n",
      "Requirement already satisfied: pyparsing>=2.3.1 in c:\\users\\nga hoang\\anaconda3\\envs\\aio_module01\\lib\\site-packages (from matplotlib) (3.1.2)\n",
      "Requirement already satisfied: python-dateutil>=2.7 in c:\\users\\nga hoang\\anaconda3\\envs\\aio_module01\\lib\\site-packages (from matplotlib) (2.9.0)\n",
      "Requirement already satisfied: six>=1.5 in c:\\users\\nga hoang\\anaconda3\\envs\\aio_module01\\lib\\site-packages (from python-dateutil>=2.7->matplotlib) (1.16.0)\n"
     ]
    }
   ],
   "source": [
    "!pip install matplotlib"
   ]
  },
  {
   "cell_type": "code",
   "execution_count": 55,
   "metadata": {},
   "outputs": [
    {
     "data": {
      "text/plain": [
       "102.5"
      ]
     },
     "execution_count": 55,
     "metadata": {},
     "output_type": "execute_result"
    }
   ],
   "source": [
    "import matplotlib.image as mpimg\n",
    "img = mpimg.imread('dog.jpeg')\n",
    "def rgb_to_lightness(rgb_image):\n",
    "    return (np.max(rgb_image, axis=2) + np.min(rgb_image, axis=2)) / 2\n",
    "\n",
    "gray_img_01 = rgb_to_lightness(img)\n",
    "gray_img_01 [0 , 0]"
   ]
  },
  {
   "cell_type": "markdown",
   "metadata": {},
   "source": [
    "Câu 13: a"
   ]
  },
  {
   "cell_type": "code",
   "execution_count": 56,
   "metadata": {},
   "outputs": [
    {
     "name": "stdout",
     "output_type": "stream",
     "text": [
      "107.66666666666667\n"
     ]
    }
   ],
   "source": [
    "import matplotlib.image as mpimg\n",
    "\n",
    "img = mpimg.imread('dog.jpeg')\n",
    "gray_img_02 = np.mean(img, axis=2)\n",
    "\n",
    "print(gray_img_02[0, 0])"
   ]
  },
  {
   "cell_type": "markdown",
   "metadata": {},
   "source": [
    "Câu 14: c"
   ]
  },
  {
   "cell_type": "code",
   "execution_count": 58,
   "metadata": {},
   "outputs": [
    {
     "name": "stdout",
     "output_type": "stream",
     "text": [
      "126.22999999999999\n"
     ]
    }
   ],
   "source": [
    "import matplotlib.image as mpimg\n",
    "img = mpimg.imread('dog.jpeg')\n",
    "\n",
    "gray_img_03 = 0.21 * img[:, :, 0] + 0.72 * img[:, :, 1] + 0.07 * img[:, :, 2]\n",
    "print(gray_img_03[0, 0])"
   ]
  },
  {
   "cell_type": "markdown",
   "metadata": {},
   "source": [
    "## BÀI TẬP 3: Phân tích dữ liệu dạng bảng"
   ]
  },
  {
   "cell_type": "code",
   "execution_count": 61,
   "metadata": {},
   "outputs": [
    {
     "name": "stdout",
     "output_type": "stream",
     "text": [
      "Collecting pandas\n",
      "  Downloading pandas-2.2.2-cp311-cp311-win_amd64.whl.metadata (19 kB)\n",
      "Requirement already satisfied: numpy>=1.23.2 in c:\\users\\nga hoang\\anaconda3\\envs\\aio_module01\\lib\\site-packages (from pandas) (1.26.4)\n",
      "Requirement already satisfied: python-dateutil>=2.8.2 in c:\\users\\nga hoang\\anaconda3\\envs\\aio_module01\\lib\\site-packages (from pandas) (2.9.0)\n",
      "Collecting pytz>=2020.1 (from pandas)\n",
      "  Downloading pytz-2024.1-py2.py3-none-any.whl.metadata (22 kB)\n",
      "Collecting tzdata>=2022.7 (from pandas)\n",
      "  Downloading tzdata-2024.1-py2.py3-none-any.whl.metadata (1.4 kB)\n",
      "Requirement already satisfied: six>=1.5 in c:\\users\\nga hoang\\anaconda3\\envs\\aio_module01\\lib\\site-packages (from python-dateutil>=2.8.2->pandas) (1.16.0)\n",
      "Downloading pandas-2.2.2-cp311-cp311-win_amd64.whl (11.6 MB)\n",
      "   ---------------------------------------- 0.0/11.6 MB ? eta -:--:--\n",
      "   ---------------------------------------- 0.0/11.6 MB ? eta -:--:--\n",
      "   ---------------------------------------- 0.0/11.6 MB 435.7 kB/s eta 0:00:27\n",
      "   ---------------------------------------- 0.0/11.6 MB 393.8 kB/s eta 0:00:30\n",
      "   ---------------------------------------- 0.0/11.6 MB 393.8 kB/s eta 0:00:30\n",
      "   ---------------------------------------- 0.0/11.6 MB 393.8 kB/s eta 0:00:30\n",
      "   ---------------------------------------- 0.1/11.6 MB 218.8 kB/s eta 0:00:53\n",
      "   ---------------------------------------- 0.1/11.6 MB 270.5 kB/s eta 0:00:43\n",
      "   ---------------------------------------- 0.1/11.6 MB 262.6 kB/s eta 0:00:44\n",
      "   ---------------------------------------- 0.1/11.6 MB 285.2 kB/s eta 0:00:41\n",
      "   ---------------------------------------- 0.1/11.6 MB 285.2 kB/s eta 0:00:41\n",
      "   ---------------------------------------- 0.1/11.6 MB 240.2 kB/s eta 0:00:48\n",
      "   ---------------------------------------- 0.1/11.6 MB 266.2 kB/s eta 0:00:44\n",
      "    --------------------------------------- 0.2/11.6 MB 273.3 kB/s eta 0:00:42\n",
      "    --------------------------------------- 0.2/11.6 MB 269.0 kB/s eta 0:00:43\n",
      "    --------------------------------------- 0.2/11.6 MB 281.0 kB/s eta 0:00:41\n",
      "    --------------------------------------- 0.2/11.6 MB 281.0 kB/s eta 0:00:41\n",
      "    --------------------------------------- 0.2/11.6 MB 265.1 kB/s eta 0:00:44\n",
      "    --------------------------------------- 0.2/11.6 MB 275.3 kB/s eta 0:00:42\n",
      "    --------------------------------------- 0.2/11.6 MB 279.1 kB/s eta 0:00:41\n",
      "    --------------------------------------- 0.3/11.6 MB 276.1 kB/s eta 0:00:42\n",
      "    --------------------------------------- 0.3/11.6 MB 288.8 kB/s eta 0:00:40\n",
      "    --------------------------------------- 0.3/11.6 MB 288.8 kB/s eta 0:00:40\n",
      "    --------------------------------------- 0.3/11.6 MB 276.5 kB/s eta 0:00:42\n",
      "   - -------------------------------------- 0.3/11.6 MB 283.6 kB/s eta 0:00:40\n",
      "   - -------------------------------------- 0.3/11.6 MB 290.2 kB/s eta 0:00:39\n",
      "   - -------------------------------------- 0.4/11.6 MB 297.1 kB/s eta 0:00:38\n",
      "   - -------------------------------------- 0.4/11.6 MB 297.1 kB/s eta 0:00:38\n",
      "   - -------------------------------------- 0.4/11.6 MB 299.5 kB/s eta 0:00:38\n",
      "   - -------------------------------------- 0.4/11.6 MB 299.5 kB/s eta 0:00:38\n",
      "   - -------------------------------------- 0.4/11.6 MB 304.8 kB/s eta 0:00:37\n",
      "   - -------------------------------------- 0.4/11.6 MB 309.4 kB/s eta 0:00:37\n",
      "   - -------------------------------------- 0.5/11.6 MB 306.4 kB/s eta 0:00:37\n",
      "   - -------------------------------------- 0.5/11.6 MB 320.9 kB/s eta 0:00:35\n",
      "   - -------------------------------------- 0.5/11.6 MB 320.9 kB/s eta 0:00:35\n",
      "   - -------------------------------------- 0.5/11.6 MB 321.2 kB/s eta 0:00:35\n",
      "   - -------------------------------------- 0.5/11.6 MB 321.4 kB/s eta 0:00:35\n",
      "   - -------------------------------------- 0.6/11.6 MB 324.6 kB/s eta 0:00:35\n",
      "   - -------------------------------------- 0.6/11.6 MB 327.6 kB/s eta 0:00:34\n",
      "   -- ------------------------------------- 0.6/11.6 MB 327.7 kB/s eta 0:00:34\n",
      "   -- ------------------------------------- 0.6/11.6 MB 330.5 kB/s eta 0:00:34\n",
      "   -- ------------------------------------- 0.6/11.6 MB 336.0 kB/s eta 0:00:33\n",
      "   -- ------------------------------------- 0.7/11.6 MB 341.3 kB/s eta 0:00:33\n",
      "   -- ------------------------------------- 0.7/11.6 MB 335.6 kB/s eta 0:00:33\n",
      "   -- ------------------------------------- 0.7/11.6 MB 340.6 kB/s eta 0:00:33\n",
      "   -- ------------------------------------- 0.7/11.6 MB 342.7 kB/s eta 0:00:32\n",
      "   -- ------------------------------------- 0.7/11.6 MB 347.2 kB/s eta 0:00:32\n",
      "   -- ------------------------------------- 0.7/11.6 MB 347.0 kB/s eta 0:00:32\n",
      "   -- ------------------------------------- 0.8/11.6 MB 348.9 kB/s eta 0:00:32\n",
      "   -- ------------------------------------- 0.8/11.6 MB 352.9 kB/s eta 0:00:31\n",
      "   -- ------------------------------------- 0.8/11.6 MB 354.7 kB/s eta 0:00:31\n",
      "   -- ------------------------------------- 0.8/11.6 MB 358.2 kB/s eta 0:00:31\n",
      "   -- ------------------------------------- 0.9/11.6 MB 357.9 kB/s eta 0:00:31\n",
      "   --- ------------------------------------ 0.9/11.6 MB 359.4 kB/s eta 0:00:30\n",
      "   --- ------------------------------------ 0.9/11.6 MB 362.8 kB/s eta 0:00:30\n",
      "   --- ------------------------------------ 0.9/11.6 MB 366.4 kB/s eta 0:00:30\n",
      "   --- ------------------------------------ 1.0/11.6 MB 371.7 kB/s eta 0:00:29\n",
      "   --- ------------------------------------ 1.0/11.6 MB 375.0 kB/s eta 0:00:29\n",
      "   --- ------------------------------------ 1.0/11.6 MB 372.4 kB/s eta 0:00:29\n",
      "   --- ------------------------------------ 1.0/11.6 MB 375.0 kB/s eta 0:00:29\n",
      "   --- ------------------------------------ 1.0/11.6 MB 378.3 kB/s eta 0:00:28\n",
      "   --- ------------------------------------ 1.1/11.6 MB 382.9 kB/s eta 0:00:28\n",
      "   --- ------------------------------------ 1.1/11.6 MB 386.0 kB/s eta 0:00:28\n",
      "   --- ------------------------------------ 1.1/11.6 MB 386.2 kB/s eta 0:00:28\n",
      "   --- ------------------------------------ 1.1/11.6 MB 389.0 kB/s eta 0:00:27\n",
      "   ---- ----------------------------------- 1.2/11.6 MB 391.2 kB/s eta 0:00:27\n",
      "   ---- ----------------------------------- 1.2/11.6 MB 395.3 kB/s eta 0:00:27\n",
      "   ---- ----------------------------------- 1.2/11.6 MB 398.0 kB/s eta 0:00:27\n",
      "   ---- ----------------------------------- 1.3/11.6 MB 399.8 kB/s eta 0:00:26\n",
      "   ---- ----------------------------------- 1.3/11.6 MB 399.1 kB/s eta 0:00:26\n",
      "   ---- ----------------------------------- 1.3/11.6 MB 404.0 kB/s eta 0:00:26\n",
      "   ---- ----------------------------------- 1.3/11.6 MB 407.7 kB/s eta 0:00:26\n",
      "   ---- ----------------------------------- 1.4/11.6 MB 406.9 kB/s eta 0:00:26\n",
      "   ---- ----------------------------------- 1.4/11.6 MB 409.6 kB/s eta 0:00:26\n",
      "   ---- ----------------------------------- 1.4/11.6 MB 413.0 kB/s eta 0:00:25\n",
      "   ---- ----------------------------------- 1.4/11.6 MB 412.2 kB/s eta 0:00:25\n",
      "   ----- ---------------------------------- 1.5/11.6 MB 418.4 kB/s eta 0:00:25\n",
      "   ----- ---------------------------------- 1.5/11.6 MB 421.5 kB/s eta 0:00:25\n",
      "   ----- ---------------------------------- 1.5/11.6 MB 418.8 kB/s eta 0:00:25\n",
      "   ----- ---------------------------------- 1.5/11.6 MB 420.9 kB/s eta 0:00:24\n",
      "   ----- ---------------------------------- 1.6/11.6 MB 423.9 kB/s eta 0:00:24\n",
      "   ----- ---------------------------------- 1.6/11.6 MB 425.1 kB/s eta 0:00:24\n",
      "   ----- ---------------------------------- 1.6/11.6 MB 430.6 kB/s eta 0:00:24\n",
      "   ----- ---------------------------------- 1.6/11.6 MB 429.8 kB/s eta 0:00:24\n",
      "   ----- ---------------------------------- 1.7/11.6 MB 430.7 kB/s eta 0:00:24\n",
      "   ----- ---------------------------------- 1.7/11.6 MB 436.0 kB/s eta 0:00:23\n",
      "   ----- ---------------------------------- 1.7/11.6 MB 435.2 kB/s eta 0:00:23\n",
      "   ------ --------------------------------- 1.8/11.6 MB 437.8 kB/s eta 0:00:23\n",
      "   ------ --------------------------------- 1.8/11.6 MB 442.8 kB/s eta 0:00:23\n",
      "   ------ --------------------------------- 1.8/11.6 MB 443.6 kB/s eta 0:00:23\n",
      "   ------ --------------------------------- 1.9/11.6 MB 446.0 kB/s eta 0:00:22\n",
      "   ------ --------------------------------- 1.9/11.6 MB 448.3 kB/s eta 0:00:22\n",
      "   ------ --------------------------------- 1.9/11.6 MB 450.6 kB/s eta 0:00:22\n",
      "   ------ --------------------------------- 2.0/11.6 MB 456.9 kB/s eta 0:00:22\n",
      "   ------ --------------------------------- 2.0/11.6 MB 457.3 kB/s eta 0:00:22\n",
      "   ------ --------------------------------- 2.0/11.6 MB 459.5 kB/s eta 0:00:21\n",
      "   ------- -------------------------------- 2.1/11.6 MB 463.1 kB/s eta 0:00:21\n",
      "   ------- -------------------------------- 2.1/11.6 MB 465.1 kB/s eta 0:00:21\n",
      "   ------- -------------------------------- 2.1/11.6 MB 469.5 kB/s eta 0:00:21\n",
      "   ------- -------------------------------- 2.2/11.6 MB 472.0 kB/s eta 0:00:21\n",
      "   ------- -------------------------------- 2.2/11.6 MB 476.0 kB/s eta 0:00:20\n",
      "   ------- -------------------------------- 2.2/11.6 MB 479.4 kB/s eta 0:00:20\n",
      "   ------- -------------------------------- 2.3/11.6 MB 479.6 kB/s eta 0:00:20\n",
      "   ------- -------------------------------- 2.3/11.6 MB 482.9 kB/s eta 0:00:20\n",
      "   -------- ------------------------------- 2.3/11.6 MB 484.6 kB/s eta 0:00:20\n",
      "   -------- ------------------------------- 2.4/11.6 MB 488.3 kB/s eta 0:00:19\n",
      "   -------- ------------------------------- 2.4/11.6 MB 490.0 kB/s eta 0:00:19\n",
      "   -------- ------------------------------- 2.4/11.6 MB 493.1 kB/s eta 0:00:19\n",
      "   -------- ------------------------------- 2.5/11.6 MB 497.2 kB/s eta 0:00:19\n",
      "   -------- ------------------------------- 2.5/11.6 MB 497.1 kB/s eta 0:00:19\n",
      "   -------- ------------------------------- 2.5/11.6 MB 500.1 kB/s eta 0:00:19\n",
      "   -------- ------------------------------- 2.6/11.6 MB 501.5 kB/s eta 0:00:19\n",
      "   --------- ------------------------------ 2.6/11.6 MB 505.4 kB/s eta 0:00:18\n",
      "   --------- ------------------------------ 2.7/11.6 MB 508.2 kB/s eta 0:00:18\n",
      "   --------- ------------------------------ 2.7/11.6 MB 513.5 kB/s eta 0:00:18\n",
      "   --------- ------------------------------ 2.7/11.6 MB 514.7 kB/s eta 0:00:18\n",
      "   --------- ------------------------------ 2.8/11.6 MB 517.8 kB/s eta 0:00:18\n",
      "   --------- ------------------------------ 2.8/11.6 MB 520.5 kB/s eta 0:00:17\n",
      "   --------- ------------------------------ 2.9/11.6 MB 523.9 kB/s eta 0:00:17\n",
      "   --------- ------------------------------ 2.9/11.6 MB 526.6 kB/s eta 0:00:17\n",
      "   ---------- ----------------------------- 2.9/11.6 MB 529.8 kB/s eta 0:00:17\n",
      "   ---------- ----------------------------- 3.0/11.6 MB 530.9 kB/s eta 0:00:17\n",
      "   ---------- ----------------------------- 3.0/11.6 MB 533.4 kB/s eta 0:00:17\n",
      "   ---------- ----------------------------- 3.1/11.6 MB 536.6 kB/s eta 0:00:16\n",
      "   ---------- ----------------------------- 3.1/11.6 MB 537.5 kB/s eta 0:00:16\n",
      "   ---------- ----------------------------- 3.1/11.6 MB 542.0 kB/s eta 0:00:16\n",
      "   ---------- ----------------------------- 3.2/11.6 MB 544.4 kB/s eta 0:00:16\n",
      "   ----------- ---------------------------- 3.2/11.6 MB 545.3 kB/s eta 0:00:16\n",
      "   ----------- ---------------------------- 3.3/11.6 MB 549.6 kB/s eta 0:00:16\n",
      "   ----------- ---------------------------- 3.3/11.6 MB 552.4 kB/s eta 0:00:16\n",
      "   ----------- ---------------------------- 3.3/11.6 MB 554.7 kB/s eta 0:00:15\n",
      "   ----------- ---------------------------- 3.4/11.6 MB 558.8 kB/s eta 0:00:15\n",
      "   ----------- ---------------------------- 3.4/11.6 MB 561.5 kB/s eta 0:00:15\n",
      "   ----------- ---------------------------- 3.5/11.6 MB 563.7 kB/s eta 0:00:15\n",
      "   ------------ --------------------------- 3.5/11.6 MB 567.7 kB/s eta 0:00:15\n",
      "   ------------ --------------------------- 3.6/11.6 MB 570.0 kB/s eta 0:00:15\n",
      "   ------------ --------------------------- 3.6/11.6 MB 573.9 kB/s eta 0:00:14\n",
      "   ------------ --------------------------- 3.7/11.6 MB 577.7 kB/s eta 0:00:14\n",
      "   ------------ --------------------------- 3.7/11.6 MB 580.1 kB/s eta 0:00:14\n",
      "   ------------ --------------------------- 3.8/11.6 MB 585.2 kB/s eta 0:00:14\n",
      "   ------------- -------------------------- 3.8/11.6 MB 589.1 kB/s eta 0:00:14\n",
      "   ------------- -------------------------- 3.9/11.6 MB 594.1 kB/s eta 0:00:14\n",
      "   ------------- -------------------------- 3.9/11.6 MB 596.2 kB/s eta 0:00:13\n",
      "   ------------- -------------------------- 4.0/11.6 MB 599.6 kB/s eta 0:00:13\n",
      "   ------------- -------------------------- 4.0/11.6 MB 603.1 kB/s eta 0:00:13\n",
      "   -------------- ------------------------- 4.1/11.6 MB 606.5 kB/s eta 0:00:13\n",
      "   -------------- ------------------------- 4.1/11.6 MB 611.4 kB/s eta 0:00:13\n",
      "   -------------- ------------------------- 4.2/11.6 MB 614.7 kB/s eta 0:00:13\n",
      "   -------------- ------------------------- 4.2/11.6 MB 617.9 kB/s eta 0:00:12\n",
      "   -------------- ------------------------- 4.3/11.6 MB 621.2 kB/s eta 0:00:12\n",
      "   -------------- ------------------------- 4.4/11.6 MB 625.9 kB/s eta 0:00:12\n",
      "   --------------- ------------------------ 4.4/11.6 MB 629.0 kB/s eta 0:00:12\n",
      "   --------------- ------------------------ 4.5/11.6 MB 633.5 kB/s eta 0:00:12\n",
      "   --------------- ------------------------ 4.5/11.6 MB 635.1 kB/s eta 0:00:12\n",
      "   --------------- ------------------------ 4.5/11.6 MB 636.7 kB/s eta 0:00:12\n",
      "   --------------- ------------------------ 4.6/11.6 MB 641.1 kB/s eta 0:00:11\n",
      "   ---------------- ----------------------- 4.7/11.6 MB 645.4 kB/s eta 0:00:11\n",
      "   ---------------- ----------------------- 4.7/11.6 MB 649.8 kB/s eta 0:00:11\n",
      "   ---------------- ----------------------- 4.8/11.6 MB 651.1 kB/s eta 0:00:11\n",
      "   ---------------- ----------------------- 4.8/11.6 MB 655.4 kB/s eta 0:00:11\n",
      "   ---------------- ----------------------- 4.9/11.6 MB 659.5 kB/s eta 0:00:11\n",
      "   ----------------- ---------------------- 4.9/11.6 MB 663.7 kB/s eta 0:00:11\n",
      "   ----------------- ---------------------- 5.0/11.6 MB 666.3 kB/s eta 0:00:10\n",
      "   ----------------- ---------------------- 5.1/11.6 MB 671.6 kB/s eta 0:00:10\n",
      "   ----------------- ---------------------- 5.1/11.6 MB 672.9 kB/s eta 0:00:10\n",
      "   ----------------- ---------------------- 5.2/11.6 MB 679.5 kB/s eta 0:00:10\n",
      "   ------------------ --------------------- 5.3/11.6 MB 684.7 kB/s eta 0:00:10\n",
      "   ------------------ --------------------- 5.3/11.6 MB 688.5 kB/s eta 0:00:10\n",
      "   ------------------ --------------------- 5.4/11.6 MB 693.5 kB/s eta 0:00:09\n",
      "   ------------------ --------------------- 5.4/11.6 MB 693.3 kB/s eta 0:00:09\n",
      "   ------------------ --------------------- 5.5/11.6 MB 697.0 kB/s eta 0:00:09\n",
      "   ------------------- -------------------- 5.6/11.6 MB 703.2 kB/s eta 0:00:09\n",
      "   ------------------- -------------------- 5.6/11.6 MB 705.7 kB/s eta 0:00:09\n",
      "   ------------------- -------------------- 5.7/11.6 MB 709.1 kB/s eta 0:00:09\n",
      "   ------------------- -------------------- 5.8/11.6 MB 713.8 kB/s eta 0:00:09\n",
      "   ------------------- -------------------- 5.8/11.6 MB 716.0 kB/s eta 0:00:09\n",
      "   -------------------- ------------------- 5.9/11.6 MB 719.4 kB/s eta 0:00:09\n",
      "   -------------------- ------------------- 6.0/11.6 MB 725.3 kB/s eta 0:00:08\n",
      "   -------------------- ------------------- 6.0/11.6 MB 731.1 kB/s eta 0:00:08\n",
      "   --------------------- ------------------ 6.1/11.6 MB 738.2 kB/s eta 0:00:08\n",
      "   --------------------- ------------------ 6.2/11.6 MB 740.0 kB/s eta 0:00:08\n",
      "   --------------------- ------------------ 6.2/11.6 MB 742.1 kB/s eta 0:00:08\n",
      "   --------------------- ------------------ 6.3/11.6 MB 747.6 kB/s eta 0:00:08\n",
      "   ---------------------- ----------------- 6.4/11.6 MB 753.2 kB/s eta 0:00:07\n",
      "   ---------------------- ----------------- 6.5/11.6 MB 760.0 kB/s eta 0:00:07\n",
      "   ---------------------- ----------------- 6.6/11.6 MB 765.4 kB/s eta 0:00:07\n",
      "   ---------------------- ----------------- 6.6/11.6 MB 769.3 kB/s eta 0:00:07\n",
      "   ----------------------- ---------------- 6.7/11.6 MB 777.0 kB/s eta 0:00:07\n",
      "   ----------------------- ---------------- 6.8/11.6 MB 783.4 kB/s eta 0:00:07\n",
      "   ----------------------- ---------------- 6.9/11.6 MB 789.9 kB/s eta 0:00:06\n",
      "   ------------------------ --------------- 7.0/11.6 MB 797.4 kB/s eta 0:00:06\n",
      "   ------------------------ --------------- 7.1/11.6 MB 804.7 kB/s eta 0:00:06\n",
      "   ------------------------ --------------- 7.2/11.6 MB 811.7 kB/s eta 0:00:06\n",
      "   ------------------------- -------------- 7.3/11.6 MB 819.2 kB/s eta 0:00:06\n",
      "   ------------------------- -------------- 7.4/11.6 MB 826.4 kB/s eta 0:00:06\n",
      "   ------------------------- -------------- 7.5/11.6 MB 833.4 kB/s eta 0:00:05\n",
      "   -------------------------- ------------- 7.6/11.6 MB 838.1 kB/s eta 0:00:05\n",
      "   -------------------------- ------------- 7.7/11.6 MB 847.3 kB/s eta 0:00:05\n",
      "   -------------------------- ------------- 7.8/11.6 MB 854.1 kB/s eta 0:00:05\n",
      "   --------------------------- ------------ 8.0/11.6 MB 865.3 kB/s eta 0:00:05\n",
      "   --------------------------- ------------ 8.1/11.6 MB 869.8 kB/s eta 0:00:05\n",
      "   ---------------------------- ----------- 8.2/11.6 MB 876.4 kB/s eta 0:00:04\n",
      "   ---------------------------- ----------- 8.3/11.6 MB 886.2 kB/s eta 0:00:04\n",
      "   ---------------------------- ----------- 8.4/11.6 MB 891.6 kB/s eta 0:00:04\n",
      "   ----------------------------- ---------- 8.5/11.6 MB 901.3 kB/s eta 0:00:04\n",
      "   ----------------------------- ---------- 8.6/11.6 MB 907.6 kB/s eta 0:00:04\n",
      "   ----------------------------- ---------- 8.7/11.6 MB 909.6 kB/s eta 0:00:04\n",
      "   ------------------------------ --------- 8.8/11.6 MB 921.1 kB/s eta 0:00:04\n",
      "   ------------------------------ --------- 8.9/11.6 MB 926.3 kB/s eta 0:00:03\n",
      "   ------------------------------- -------- 9.1/11.6 MB 933.4 kB/s eta 0:00:03\n",
      "   ------------------------------- -------- 9.2/11.6 MB 939.4 kB/s eta 0:00:03\n",
      "   ------------------------------- -------- 9.2/11.6 MB 942.7 kB/s eta 0:00:03\n",
      "   -------------------------------- ------- 9.3/11.6 MB 950.2 kB/s eta 0:00:03\n",
      "   -------------------------------- ------- 9.5/11.6 MB 960.7 kB/s eta 0:00:03\n",
      "   -------------------------------- ------- 9.6/11.6 MB 966.5 kB/s eta 0:00:03\n",
      "   --------------------------------- ------ 9.7/11.6 MB 973.3 kB/s eta 0:00:02\n",
      "   --------------------------------- ------ 9.8/11.6 MB 980.0 kB/s eta 0:00:02\n",
      "   ---------------------------------- ----- 9.9/11.6 MB 983.5 kB/s eta 0:00:02\n",
      "   ---------------------------------- ----- 10.0/11.6 MB 993.2 kB/s eta 0:00:02\n",
      "   ---------------------------------- ----- 10.2/11.6 MB 1.0 MB/s eta 0:00:02\n",
      "   ----------------------------------- ---- 10.3/11.6 MB 1.0 MB/s eta 0:00:02\n",
      "   ----------------------------------- ---- 10.4/11.6 MB 1.1 MB/s eta 0:00:02\n",
      "   ------------------------------------ --- 10.5/11.6 MB 1.1 MB/s eta 0:00:02\n",
      "   ------------------------------------ --- 10.6/11.6 MB 1.1 MB/s eta 0:00:01\n",
      "   ------------------------------------- -- 10.8/11.6 MB 1.2 MB/s eta 0:00:01\n",
      "   ------------------------------------- -- 10.9/11.6 MB 1.2 MB/s eta 0:00:01\n",
      "   ------------------------------------- -- 11.0/11.6 MB 1.2 MB/s eta 0:00:01\n",
      "   -------------------------------------- - 11.1/11.6 MB 1.3 MB/s eta 0:00:01\n",
      "   -------------------------------------- - 11.2/11.6 MB 1.3 MB/s eta 0:00:01\n",
      "   ---------------------------------------  11.4/11.6 MB 1.3 MB/s eta 0:00:01\n",
      "   ---------------------------------------  11.5/11.6 MB 1.4 MB/s eta 0:00:01\n",
      "   ---------------------------------------  11.6/11.6 MB 1.4 MB/s eta 0:00:01\n",
      "   ---------------------------------------- 11.6/11.6 MB 1.4 MB/s eta 0:00:00\n",
      "Downloading pytz-2024.1-py2.py3-none-any.whl (505 kB)\n",
      "   ---------------------------------------- 0.0/505.5 kB ? eta -:--:--\n",
      "   ------------- -------------------------- 174.1/505.5 kB 3.5 MB/s eta 0:00:01\n",
      "   --------------------------- ------------ 348.2/505.5 kB 4.3 MB/s eta 0:00:01\n",
      "   ---------------------------------------- 505.5/505.5 kB 3.5 MB/s eta 0:00:00\n",
      "Downloading tzdata-2024.1-py2.py3-none-any.whl (345 kB)\n",
      "   ---------------------------------------- 0.0/345.4 kB ? eta -:--:--\n",
      "   ------------------ --------------------- 163.8/345.4 kB 5.0 MB/s eta 0:00:01\n",
      "   ------------------------------------- -- 327.7/345.4 kB 4.1 MB/s eta 0:00:01\n",
      "   ---------------------------------------- 345.4/345.4 kB 3.6 MB/s eta 0:00:00\n",
      "Installing collected packages: pytz, tzdata, pandas\n",
      "Successfully installed pandas-2.2.2 pytz-2024.1 tzdata-2024.1\n"
     ]
    }
   ],
   "source": [
    "!pip install pandas"
   ]
  },
  {
   "cell_type": "markdown",
   "metadata": {},
   "source": [
    " Câu hỏi 15: c"
   ]
  },
  {
   "cell_type": "code",
   "execution_count": 62,
   "metadata": {},
   "outputs": [
    {
     "name": "stdout",
     "output_type": "stream",
     "text": [
      "Max: 27.0 - Index: 175\n"
     ]
    }
   ],
   "source": [
    "import pandas as pd\n",
    "\n",
    "df = pd.read_csv('advertising.csv')\n",
    "\n",
    "data = df.to_numpy()\n",
    "\n",
    "sales_column = data[:, 3]\n",
    "\n",
    "max_value = sales_column.max()\n",
    "max_index = sales_column.argmax()\n",
    "\n",
    "print(f\"Max: {max_value} - Index: {max_index}\")\n"
   ]
  },
  {
   "cell_type": "markdown",
   "metadata": {},
   "source": [
    " Câu hỏi 16:b"
   ]
  },
  {
   "cell_type": "code",
   "execution_count": 70,
   "metadata": {},
   "outputs": [
    {
     "name": "stdout",
     "output_type": "stream",
     "text": [
      "147.0425\n"
     ]
    }
   ],
   "source": [
    "average_tv = df['TV'].mean()\n",
    "print(average_tv)"
   ]
  },
  {
   "cell_type": "markdown",
   "metadata": {},
   "source": [
    " Câu hỏi 17: a"
   ]
  },
  {
   "cell_type": "code",
   "execution_count": 69,
   "metadata": {},
   "outputs": [
    {
     "name": "stdout",
     "output_type": "stream",
     "text": [
      "40\n"
     ]
    }
   ],
   "source": [
    "count_sales_20 = df[df['Sales'] >= 20].shape[0]\n",
    "print(count_sales_20)"
   ]
  },
  {
   "cell_type": "markdown",
   "metadata": {},
   "source": [
    "Câu hỏi 18: b"
   ]
  },
  {
   "cell_type": "code",
   "execution_count": 68,
   "metadata": {},
   "outputs": [
    {
     "name": "stdout",
     "output_type": "stream",
     "text": [
      "26.22293577981651\n"
     ]
    }
   ],
   "source": [
    "average_radio_sales_15 = df[df['Sales'] >= 15]['Radio'].mean()\n",
    "print(average_radio_sales_15)"
   ]
  },
  {
   "cell_type": "markdown",
   "metadata": {},
   "source": [
    "Câu hỏi 19: c"
   ]
  },
  {
   "cell_type": "code",
   "execution_count": 67,
   "metadata": {},
   "outputs": [
    {
     "name": "stdout",
     "output_type": "stream",
     "text": [
      "1405.1\n"
     ]
    }
   ],
   "source": [
    "average_newspaper = df['Newspaper'].mean()\n",
    "total_sales_newspaper = df[df['Newspaper'] > average_newspaper]['Sales'].sum()\n",
    "print(total_sales_newspaper)"
   ]
  },
  {
   "cell_type": "markdown",
   "metadata": {},
   "source": [
    "Câu hỏi 20: c"
   ]
  },
  {
   "cell_type": "code",
   "execution_count": 71,
   "metadata": {},
   "outputs": [
    {
     "name": "stdout",
     "output_type": "stream",
     "text": [
      "['Bad', 'Bad', 'Good']\n"
     ]
    }
   ],
   "source": [
    "A = df['Sales'].mean()\n",
    "\n",
    "# Tạo ra mảng scores\n",
    "scores = []\n",
    "for value in df['Sales']:\n",
    "    if value > A:\n",
    "        scores.append('Good')\n",
    "    elif value < A:\n",
    "        scores.append('Bad')\n",
    "    else:\n",
    "        scores.append('Average')\n",
    "\n",
    "# In ra kết quả scores[7:10]\n",
    "print(scores[7:10])"
   ]
  },
  {
   "cell_type": "markdown",
   "metadata": {},
   "source": [
    "Câu hỏi 21: c"
   ]
  },
  {
   "cell_type": "code",
   "execution_count": 72,
   "metadata": {},
   "outputs": [
    {
     "name": "stdout",
     "output_type": "stream",
     "text": [
      "['Bad', 'Bad', 'Good']\n"
     ]
    }
   ],
   "source": [
    "closest_to_A = df['Sales'].iloc[(df['Sales'] - A).abs().argmin()]\n",
    "\n",
    "# Tạo ra mảng scores\n",
    "scores_closest = []\n",
    "for value in df['Sales']:\n",
    "    if value > closest_to_A:\n",
    "        scores_closest.append('Good')\n",
    "    elif value < closest_to_A:\n",
    "        scores_closest.append('Bad')\n",
    "    else:\n",
    "        scores_closest.append('Average')\n",
    "\n",
    "# In ra kết quả scores_closest[7:10]\n",
    "print(scores_closest[7:10])"
   ]
  },
  {
   "cell_type": "code",
   "execution_count": null,
   "metadata": {},
   "outputs": [],
   "source": []
  }
 ],
 "metadata": {
  "kernelspec": {
   "display_name": "Python 3",
   "language": "python",
   "name": "python3"
  },
  "language_info": {
   "codemirror_mode": {
    "name": "ipython",
    "version": 3
   },
   "file_extension": ".py",
   "mimetype": "text/x-python",
   "name": "python",
   "nbconvert_exporter": "python",
   "pygments_lexer": "ipython3",
   "version": "3.11.9"
  }
 },
 "nbformat": 4,
 "nbformat_minor": 2
}
